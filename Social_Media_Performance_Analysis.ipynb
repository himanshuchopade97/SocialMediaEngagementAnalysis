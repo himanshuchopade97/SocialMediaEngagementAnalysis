{
  "cells": [
    {
      "cell_type": "code",
      "execution_count": null,
      "metadata": {
        "collapsed": true,
        "id": "56c_JLdG3jT1"
      },
      "outputs": [],
      "source": [
        "!pip install langchain_openai\n",
        "!pip install langchain_google_genai\n",
        "!pip install cassandra-driver python-dotenv\n",
        "!pip install astrapy\n",
        "!pip install langchain-community\n",
        "!pip install google-auth google-auth-httplib2 google-auth-oauthlib google-api-python-client langchain langchain_google_genai"
      ]
    },
    {
      "cell_type": "code",
      "execution_count": 52,
      "metadata": {
        "id": "kmc9qjc13AFJ"
      },
      "outputs": [],
      "source": [
        "import os\n",
        "import csv\n",
        "import json\n",
        "from langchain_openai import OpenAI\n",
        "from langchain.prompts import PromptTemplate\n",
        "from langchain_google_genai import ChatGoogleGenerativeAI\n",
        "from dotenv import load_dotenv\n",
        "from astrapy import DataAPIClient\n",
        "from langchain.schema import StrOutputParser\n",
        "from langchain.schema.runnable import RunnablePassthrough\n",
        "from cassandra.cluster import Cluster\n",
        "from cassandra.auth import PlainTextAuthProvider\n",
        "from langchain.chat_models import ChatOpenAI\n",
        "from langchain.chains import LLMChain\n",
        "from google.auth import load_credentials_from_file\n",
        "from langchain_google_genai.chat_models import ChatGoogleGenerativeAI\n",
        "from langchain.schema import BaseOutputParser"
      ]
    },
    {
      "cell_type": "code",
      "execution_count": null,
      "metadata": {
        "colab": {
          "base_uri": "https://localhost:8080/",
          "height": 0
        },
        "id": "2DoMS0me-nw6",
        "outputId": "332f12be-4b4b-4934-9349-8d6426394a33"
      },
      "outputs": [],
      "source": [
        "# Loading credentials from the JSON file\n",
        "json_file_path = \"/content/social_media_db-token.json\"\n",
        "with open(json_file_path, 'r') as file:\n",
        "    credentials = json.load(file)\n",
        "\n",
        "ASTRA_CLIENT_ID = credentials[\"clientId\"]\n",
        "ASTRA_CLIENT_SECRET = credentials[\"secret\"]\n",
        "SECURE_CONNECT_BUNDLE = \"/content/secure-connect-social-media-db.zip\"  \n",
        "TABLE_NAME = \"engagement_table\"\n",
        "KEYSPACE = \"engagement_data\"\n",
        "\n",
        "# Connecting to AstraDB\n",
        "auth_provider = PlainTextAuthProvider(ASTRA_CLIENT_ID, ASTRA_CLIENT_SECRET)\n",
        "cluster = Cluster(cloud={'secure_connect_bundle': SECURE_CONNECT_BUNDLE}, auth_provider=auth_provider)\n",
        "\n",
        "try:\n",
        "    session = cluster.connect()\n",
        "    session.set_keyspace(KEYSPACE)\n",
        "    print(f\"Connected to keyspace: {KEYSPACE}\")\n",
        "except Exception as e:\n",
        "    print(f\"Error connecting to AstraDB: {e}\")\n",
        "    raise\n",
        "\n",
        "# Checking if the table exists or not\n",
        "def check_or_create_table():\n",
        "    try:\n",
        "        query = f\"SELECT table_name FROM system_schema.tables WHERE keyspace_name='{KEYSPACE}' AND table_name='{TABLE_NAME}'\"\n",
        "        rows = session.execute(query)\n",
        "        if rows.one():\n",
        "            print(f\"Table '{TABLE_NAME}' already exists.\")\n",
        "        else:\n",
        "            print(f\"Table '{TABLE_NAME}' does not exist.\")\n",
        "\n",
        "    except Exception as e:\n",
        "        print(f\"Error checking or creating table: {e}\")\n",
        "        raise\n",
        "\n",
        "check_or_create_table()\n"
      ]
    },
    {
      "cell_type": "code",
      "execution_count": null,
      "metadata": {
        "colab": {
          "base_uri": "https://localhost:8080/",
          "height": 0
        },
        "id": "ojEv2TYdCOzN",
        "outputId": "897c3c28-1334-410a-dc2e-88ab5ac6c74b"
      },
      "outputs": [],
      "source": [
        "import csv\n",
        "import uuid\n",
        "\n",
        "# Table schema\n",
        "TABLE_NAME = \"engagement_table\"\n",
        "file_path = \"/content/dataset.csv\" \n",
        "\n",
        "try:\n",
        "    with open(file_path, mode='r') as file:\n",
        "        csv_reader = csv.DictReader(file)\n",
        "        c = 1\n",
        "        for row in csv_reader:\n",
        "            try:\n",
        "                post_id = uuid.UUID(row[\"post_id\"]) if row[\"post_id\"] else uuid.uuid4()\n",
        "\n",
        "                insert_query = f\"\"\"\n",
        "                INSERT INTO {TABLE_NAME} (post_id, comments, likes, post_type, shares)\n",
        "                VALUES (%s, %s, %s, %s, %s)\n",
        "                \"\"\"\n",
        "\n",
        "                session.execute(\n",
        "                    insert_query,\n",
        "                    (\n",
        "                        post_id,\n",
        "                        int(row[\"comments\"]),\n",
        "                        int(row[\"likes\"]),\n",
        "                        row[\"post_type\"],\n",
        "                        int(row[\"shares\"]),\n",
        "                    ),\n",
        "                )\n",
        "                print(f\"Processed row {c}\")\n",
        "                c += 1\n",
        "            except KeyError as e:\n",
        "                print(f\"Error: Missing required column in the file: {e}\")\n",
        "            except ValueError as e:\n",
        "                print(f\"Error: Invalid data format for row {c}: {e}\")\n",
        "            except Exception as e:\n",
        "                print(f\"An error occurred while processing row {c}: {e}\")\n",
        "\n",
        "        print(\"Data successfully inserted into the database.\")\n",
        "except FileNotFoundError:\n",
        "    print(f\"Error: File '{file_path}' not found.\")\n",
        "except Exception as e:\n",
        "    print(f\"An error occurred: {e}\")\n"
      ]
    },
    {
      "cell_type": "code",
      "execution_count": 55,
      "metadata": {
        "id": "EuO9O8vtC_IA"
      },
      "outputs": [],
      "source": [
        "\n",
        "def fetch_data_from_db():\n",
        "    TABLE_NAME = \"engagement_table\"\n",
        "    try:\n",
        "        select_query = f\"SELECT * FROM {TABLE_NAME}\"\n",
        "        rows = session.execute(select_query)\n",
        "        data = [dict(row._asdict()) for row in rows]\n",
        "        return data\n",
        "    except Exception as e:\n",
        "        print(f\"Error retrieving data from Astra DB: {e}\")\n",
        "        return []\n"
      ]
    },
    {
      "cell_type": "code",
      "execution_count": null,
      "metadata": {
        "colab": {
          "base_uri": "https://localhost:8080/",
          "height": 0
        },
        "id": "Dyl2iDByEcYO",
        "outputId": "71b010d9-1f8f-4994-ac54-867ef2d14891"
      },
      "outputs": [],
      "source": [
        "\n",
        "\n",
        "# Load credentials from our service account key file\n",
        "def load_google_credentials():\n",
        "    # Loading the credentials from our JSON file\n",
        "    credentials, project = load_credentials_from_file('/content/chat-bot-flexi-380902a56dfa.json')\n",
        "\n",
        "    credentials = credentials.with_scopes([\n",
        "        \"https://www.googleapis.com/auth/cloud-platform\",\n",
        "        \"https://www.googleapis.com/auth/generative-language\"\n",
        "    ])\n",
        "    return credentials\n",
        "\n",
        "# Preparing the model with Google API credentials\n",
        "def get_gemini_model():\n",
        "    credentials = load_google_credentials()\n",
        "    llm = ChatGoogleGenerativeAI(model=\"gemini-1.5-flash\", credentials=credentials)\n",
        "    return llm\n",
        "\n",
        "\n",
        "def generate_prompt():\n",
        "    prompt_template = (\n",
        "        \"Here is the entire dataset: {data}. \"\n",
        "        \"Identify patterns, trends, and insights from this dataset. \"\n",
        "        \"Summarize the key trends only without providing row-by-row details. \"\n",
        "        \"For example, one trend could be 'Posts by females receive 46% more likes compared to posts by males'. \"\n",
        "        \"Similarly, generate more insights from the data and use numbers to further strengthen the trends. \"\n",
        "        \"Finally, the output should be a list of trends and insights from the data. Do not generate anything else, no suggestions. \"\n",
        "        \"Generate as many trends as possible, including all columns of the data, except the _id and post_id.\"\n",
        "    )\n",
        "    prompt = PromptTemplate(input_variables=[\"data\"], template=prompt_template)\n",
        "    return prompt\n",
        "\n",
        "# Setting up the chain with LLM and prompt\n",
        "def setup_chain():\n",
        "    llm = get_gemini_model()\n",
        "    prompt = generate_prompt()\n",
        "    chain = (\n",
        "        {\"data\": RunnablePassthrough()} \n",
        "        | prompt\n",
        "        | llm  \n",
        "        | StrOutputParser()  \n",
        "    )\n",
        "    return chain\n",
        "\n",
        "\n",
        "formatted_data = fetch_data_from_db()\n",
        "\n",
        "# Run the chain to generate insights\n",
        "def generate_insights():\n",
        "    chain = setup_chain()\n",
        "    output = chain.invoke(input=formatted_data)  \n",
        "    print(\"Generated Insights:\")\n",
        "    print(output)\n",
        "\n",
        "if __name__ == \"__main__\":\n",
        "    generate_insights()\n"
      ]
    }
  ],
  "metadata": {
    "colab": {
      "provenance": []
    },
    "kernelspec": {
      "display_name": "Python 3",
      "name": "python3"
    },
    "language_info": {
      "name": "python"
    }
  },
  "nbformat": 4,
  "nbformat_minor": 0
}
